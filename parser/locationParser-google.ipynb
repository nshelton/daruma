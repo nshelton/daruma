{
 "cells": [
  {
   "cell_type": "code",
   "execution_count": 1,
   "metadata": {},
   "outputs": [
    {
     "name": "stdout",
     "output_type": "stream",
     "text": [
      "39475\n"
     ]
    }
   ],
   "source": [
    "import datetime\n",
    "import glob\n",
    "import gzip\n",
    "import json\n",
    "        \n",
    "root_dir = \"/Users/nshelton/Library/Mobile Documents/com~apple~CloudDocs/location-history.json\"\n",
    "\n",
    "\n",
    "f = open(root_dir, 'rb')\n",
    "fileContent = f.read()\n",
    "rawFileContent = fileContent.decode('utf-8')\n",
    "data = json.loads(rawFileContent)\n",
    "f.close()\n",
    "\n",
    "print(len(data))\n",
    "\n"
   ]
  },
  {
   "cell_type": "code",
   "execution_count": 2,
   "metadata": {},
   "outputs": [],
   "source": [
    "import re\n",
    "\n",
    "samples = []\n",
    "\n",
    "# Regular expression pattern to extract latitude and longitude\n",
    "pattern = re.compile(r'geo:([-+]?\\d*\\.\\d+|\\d+),([-+]?\\d*\\.\\d+|\\d+)')\n",
    "\n",
    "for location in data:\n",
    "    \n",
    "    place_location = ''\n",
    "\n",
    "    if 'visit' in location:\n",
    "      place_location = location['visit']['topCandidate']['placeLocation']\n",
    "      \n",
    "    if 'activity' in location:\n",
    "      place_location = location['activity']['start']\n",
    "     \n",
    "    if 'timelinePath' in location:\n",
    "      place_location = location['timelinePath'][0]['point']\n",
    "\n",
    "    timestamp = location['startTime']\n",
    "\n",
    "\n",
    "    if place_location == '':\n",
    "        # print('No location data')\n",
    "        continue\n",
    "\n",
    "    match = pattern.match(place_location)\n",
    "    if match:\n",
    "        lat = float(match.group(1))\n",
    "        lon = float(match.group(2))\n",
    "        # print(lat, lon, timestamp)\n",
    "        samples.append((lat, lon, timestamp))\n",
    "\n"
   ]
  },
  {
   "cell_type": "code",
   "execution_count": 3,
   "metadata": {},
   "outputs": [
    {
     "data": {
      "text/plain": [
       "39405"
      ]
     },
     "execution_count": 3,
     "metadata": {},
     "output_type": "execute_result"
    }
   ],
   "source": [
    "len(samples)\n"
   ]
  },
  {
   "cell_type": "code",
   "execution_count": 4,
   "metadata": {},
   "outputs": [],
   "source": [
    "import sqlite3\n",
    "\n",
    "def initialize_database(db_path):\n",
    "    conn = sqlite3.connect(db_path)\n",
    "    cursor = conn.cursor()\n",
    "    cursor.execute('''\n",
    "        CREATE TABLE IF NOT EXISTS locations (\n",
    "            id INTEGER PRIMARY KEY AUTOINCREMENT,\n",
    "            time TEXT,\n",
    "            lat Decimal(8,6),\n",
    "            lng Decimal(9,6)\n",
    "        )\n",
    "    ''')\n",
    "    conn.commit()\n",
    "    return conn\n",
    "\n",
    "db_path = 'locations.db'\n",
    "conn = initialize_database(db_path)\n",
    "\n",
    "cursor = conn.cursor()\n",
    "for sample in samples:\n",
    "\n",
    "    cursor.execute('''\n",
    "      INSERT INTO locations (time, lat, lng)\n",
    "      VALUES (?, ?, ?)\n",
    "      ''', (sample[2], sample[0], sample[1]))\n",
    "conn.commit() \n",
    "\n",
    "\n"
   ]
  }
 ],
 "metadata": {
  "kernelspec": {
   "display_name": "Python 3",
   "language": "python",
   "name": "python3"
  },
  "language_info": {
   "codemirror_mode": {
    "name": "ipython",
    "version": 3
   },
   "file_extension": ".py",
   "mimetype": "text/x-python",
   "name": "python",
   "nbconvert_exporter": "python",
   "pygments_lexer": "ipython3",
   "version": "3.9.6"
  }
 },
 "nbformat": 4,
 "nbformat_minor": 2
}
