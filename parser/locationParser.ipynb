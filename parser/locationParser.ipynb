{
 "cells": [
  {
   "cell_type": "code",
   "execution_count": 1,
   "metadata": {},
   "outputs": [
    {
     "name": "stdout",
     "output_type": "stream",
     "text": [
      "2024-09-09.json.gz : 4314 samples\n",
      "2024-08-30.json.gz : 8241 samples\n",
      "2024-09-10.json.gz : 14126 samples\n",
      "2024-08-29.json.gz : 18228 samples\n",
      "2024-09-11.json.gz : 19403 samples\n",
      "2024-09-01.json.gz : 22825 samples\n",
      "2024-08-28.json.gz : 25306 samples\n",
      "2024-09-08.json.gz : 29280 samples\n",
      "2024-08-31.json.gz : 33683 samples\n",
      "2024-09-03.json.gz : 36979 samples\n",
      "2024-09-13.json.gz : 40981 samples\n",
      "2024-09-12.json.gz : 43188 samples\n",
      "2024-09-02.json.gz : 47382 samples\n",
      "2024-09-07.json.gz : 49772 samples\n",
      "2024-08-27.json.gz : 52008 samples\n",
      "2024-08-26.json.gz : 55222 samples\n",
      "2024-09-16.json.gz : 55997 samples\n",
      "2024-09-06.json.gz : 60193 samples\n",
      "2024-09-04.json.gz : 65058 samples\n",
      "2024-09-14.json.gz : 69843 samples\n",
      "2024-09-15.json.gz : 72838 samples\n",
      "2024-09-05.json.gz : 77215 samples\n"
     ]
    }
   ],
   "source": [
    "import datetime\n",
    "import glob\n",
    "import gzip\n",
    "import json\n",
    "        \n",
    "root_dir = \"/Users/nshelton/Library/Mobile Documents/iCloud~com~bigpaua~LearnerCoacher/Documents/Export/JSON/Daily\"\n",
    "\n",
    "compressed_files = glob.glob(f\"{root_dir}/*.json.gz\")\n",
    "\n",
    "samples = []\n",
    "\n",
    "for compressed_file in compressed_files:\n",
    "  f = gzip.open(compressed_file, 'rb')\n",
    "  fileContent = f.read()\n",
    "  rawFileContent = fileContent.decode('utf-8')\n",
    "  data = json.loads(rawFileContent)\n",
    "  f.close()\n",
    "\n",
    "  timeline = data['timelineItems']\n",
    "\n",
    "  for item in timeline:\n",
    "      samples += item['samples']\n",
    "\n",
    "  print(f\"{compressed_file.split('/')[-1]} : {len(samples)} samples\")\n",
    "\n",
    "\n",
    "\n"
   ]
  },
  {
   "cell_type": "code",
   "execution_count": 2,
   "metadata": {},
   "outputs": [
    {
     "data": {
      "text/plain": [
       "77215"
      ]
     },
     "execution_count": 2,
     "metadata": {},
     "output_type": "execute_result"
    }
   ],
   "source": [
    "len(samples)"
   ]
  },
  {
   "cell_type": "code",
   "execution_count": 3,
   "metadata": {},
   "outputs": [],
   "source": [
    "import sqlite3\n",
    "\n",
    "def initialize_database(db_path):\n",
    "    conn = sqlite3.connect(db_path)\n",
    "    cursor = conn.cursor()\n",
    "    cursor.execute('''\n",
    "        CREATE TABLE IF NOT EXISTS locations (\n",
    "            id INTEGER PRIMARY KEY AUTOINCREMENT,\n",
    "            time TEXT,\n",
    "            lat Decimal(8,6),\n",
    "            lng Decimal(9,6)\n",
    "        )\n",
    "    ''')\n",
    "    conn.commit()\n",
    "    return conn\n",
    "\n",
    "db_path = 'locations.db'\n",
    "conn = initialize_database(db_path)\n",
    "\n",
    "cursor = conn.cursor()\n",
    "for sample in samples:\n",
    "    location = sample['location']\n",
    "\n",
    "    if location == None:\n",
    "        continue\n",
    "    # print(location)\n",
    "    cursor.execute('''\n",
    "      INSERT INTO locations (time, lat, lng)\n",
    "      VALUES (?, ?, ?)\n",
    "      ''', (location['timestamp'], location['latitude'], location['longitude']))\n",
    "conn.commit() \n",
    "\n",
    "\n"
   ]
  }
 ],
 "metadata": {
  "kernelspec": {
   "display_name": "Python 3",
   "language": "python",
   "name": "python3"
  },
  "language_info": {
   "codemirror_mode": {
    "name": "ipython",
    "version": 3
   },
   "file_extension": ".py",
   "mimetype": "text/x-python",
   "name": "python",
   "nbconvert_exporter": "python",
   "pygments_lexer": "ipython3",
   "version": "3.9.6"
  }
 },
 "nbformat": 4,
 "nbformat_minor": 2
}
