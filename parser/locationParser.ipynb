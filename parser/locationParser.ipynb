{
 "cells": [
  {
   "cell_type": "code",
   "execution_count": 4,
   "metadata": {},
   "outputs": [
    {
     "name": "stdout",
     "output_type": "stream",
     "text": [
      "2024-09-09.json.gz : 4314 samples\n"
     ]
    }
   ],
   "source": [
    "import datetime\n",
    "import glob\n",
    "import gzip\n",
    "import json\n",
    "        \n",
    "root_dir = \"/Users/nshelton/Library/Mobile Documents/iCloud~com~bigpaua~LearnerCoacher/Documents/Export/JSON/Daily\"\n",
    "\n",
    "compressed_files = glob.glob(f\"{root_dir}/*.json.gz\")\n",
    "\n",
    "for compressed_file in compressed_files:\n",
    "  f = gzip.open(compressed_file, 'rb')\n",
    "  fileContent = f.read()\n",
    "  rawFileContent = fileContent.decode('utf-8')\n",
    "  data = json.loads(rawFileContent)\n",
    "  f.close()\n",
    "\n",
    "  timeline = data['timelineItems']\n",
    "\n",
    "  samples = []\n",
    "  for item in timeline:\n",
    "      samples += item['samples']\n",
    "\n",
    "  print(f\"{compressed_file.split('/')[-1]} : {len(samples)} samples\")\n",
    "\n",
    "  break\n",
    "\n",
    "\n"
   ]
  },
  {
   "cell_type": "code",
   "execution_count": 8,
   "metadata": {},
   "outputs": [],
   "source": [
    "import sqlite3\n",
    "\n",
    "def initialize_database(db_path):\n",
    "    conn = sqlite3.connect(db_path)\n",
    "    cursor = conn.cursor()\n",
    "    cursor.execute('''\n",
    "        CREATE TABLE IF NOT EXISTS locations (\n",
    "            id INTEGER PRIMARY KEY AUTOINCREMENT,\n",
    "            timestamp TEXT,\n",
    "            lat Decimal(8,6),\n",
    "            lon Decimal(9,6)\n",
    "        )\n",
    "    ''')\n",
    "    conn.commit()\n",
    "    return conn\n",
    "\n",
    "db_path = 'locations.db'\n",
    "conn = initialize_database(db_path)\n",
    "\n",
    "cursor = conn.cursor()\n",
    "for sample in samples:\n",
    "    location = sample['location']\n",
    "    cursor.execute('''\n",
    "        INSERT INTO locations (timestamp, lat, lon)\n",
    "        VALUES (?, ?, ?)\n",
    "    ''', (location['timestamp'], location['latitude'], location['longitude']))\n",
    "conn.commit() \n",
    "\n",
    "\n"
   ]
  }
 ],
 "metadata": {
  "kernelspec": {
   "display_name": "Python 3",
   "language": "python",
   "name": "python3"
  },
  "language_info": {
   "codemirror_mode": {
    "name": "ipython",
    "version": 3
   },
   "file_extension": ".py",
   "mimetype": "text/x-python",
   "name": "python",
   "nbconvert_exporter": "python",
   "pygments_lexer": "ipython3",
   "version": "3.9.6"
  }
 },
 "nbformat": 4,
 "nbformat_minor": 2
}
